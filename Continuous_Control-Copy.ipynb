{
 "cells": [
  {
   "cell_type": "markdown",
   "metadata": {},
   "source": [
    "### Continuous Control\n",
    "\n",
    "---\n",
    "\n",
    "You are welcome to use this coding environment to train your agent for the project.  Follow the instructions below to get started!\n",
    "\n",
    "### 1. Start the Environment\n",
    "\n",
    "Run the next code cell to install a few packages.  This line will take a few minutes to run!"
   ]
  },
  {
   "cell_type": "code",
   "execution_count": 1,
   "metadata": {},
   "outputs": [
    {
     "name": "stdout",
     "output_type": "stream",
     "text": [
      "\u001b[31mtensorflow 1.7.1 has requirement numpy>=1.13.3, but you'll have numpy 1.12.1 which is incompatible.\u001b[0m\r\n",
      "\u001b[31mipython 6.5.0 has requirement prompt-toolkit<2.0.0,>=1.0.15, but you'll have prompt-toolkit 2.0.10 which is incompatible.\u001b[0m\r\n"
     ]
    }
   ],
   "source": [
    "!pip -q install ./python"
   ]
  },
  {
   "cell_type": "markdown",
   "metadata": {},
   "source": [
    "The environments corresponding to both versions of the environment are already saved in the Workspace and can be accessed at the file paths provided below.  \n",
    "\n",
    "Please select one of the two options below for loading the environment."
   ]
  },
  {
   "cell_type": "code",
   "execution_count": 2,
   "metadata": {},
   "outputs": [
    {
     "name": "stderr",
     "output_type": "stream",
     "text": [
      "INFO:unityagents:\n",
      "'Academy' started successfully!\n",
      "Unity Academy name: Academy\n",
      "        Number of Brains: 1\n",
      "        Number of External Brains : 1\n",
      "        Lesson number : 0\n",
      "        Reset Parameters :\n",
      "\t\tgoal_speed -> 1.0\n",
      "\t\tgoal_size -> 5.0\n",
      "Unity brain name: ReacherBrain\n",
      "        Number of Visual Observations (per agent): 0\n",
      "        Vector Observation space type: continuous\n",
      "        Vector Observation space size (per agent): 33\n",
      "        Number of stacked Vector Observation: 1\n",
      "        Vector Action space type: continuous\n",
      "        Vector Action space size (per agent): 4\n",
      "        Vector Action descriptions: , , , \n"
     ]
    }
   ],
   "source": [
    "from ddpg_agent import Agent\n",
    "from collections import deque\n",
    "import matplotlib.pyplot as plt\n",
    "import numpy as np\n",
    "import random\n",
    "import time\n",
    "import torch\n",
    "from unityagents import UnityEnvironment\n",
    "\n",
    "%matplotlib inline\n",
    "\n",
    "\n",
    "\n",
    "# select this option to load version 1 (with a single agent) of the environment\n",
    "#env = UnityEnvironment(file_name='/data/Reacher_One_Linux_NoVis/Reacher_One_Linux_NoVis.x86_64')\n",
    "\n",
    "# select this option to load version 2 (with 20 agents) of the environment\n",
    "env = UnityEnvironment(file_name='/data/Reacher_Linux_NoVis/Reacher.x86_64')"
   ]
  },
  {
   "cell_type": "markdown",
   "metadata": {},
   "source": [
    "Environments contain **_brains_** which are responsible for deciding the actions of their associated agents. Here we check for the first brain available, and set it as the default brain we will be controlling from Python."
   ]
  },
  {
   "cell_type": "code",
   "execution_count": 3,
   "metadata": {},
   "outputs": [],
   "source": [
    "# get the default brain\n",
    "brain_name = env.brain_names[0]\n",
    "brain = env.brains[brain_name]"
   ]
  },
  {
   "cell_type": "markdown",
   "metadata": {},
   "source": [
    "### 2. Examine the State and Action Spaces\n",
    "\n",
    "Run the code cell below to print some information about the environment."
   ]
  },
  {
   "cell_type": "code",
   "execution_count": 4,
   "metadata": {},
   "outputs": [
    {
     "name": "stdout",
     "output_type": "stream",
     "text": [
      "Number of agents: 20\n",
      "Size of each action: 4\n",
      "There are 20 agents. Each observes a state with length: 33\n",
      "The state for the first agent looks like: [  0.00000000e+00  -4.00000000e+00   0.00000000e+00   1.00000000e+00\n",
      "  -0.00000000e+00  -0.00000000e+00  -4.37113883e-08   0.00000000e+00\n",
      "   0.00000000e+00   0.00000000e+00   0.00000000e+00   0.00000000e+00\n",
      "   0.00000000e+00   0.00000000e+00  -1.00000000e+01   0.00000000e+00\n",
      "   1.00000000e+00  -0.00000000e+00  -0.00000000e+00  -4.37113883e-08\n",
      "   0.00000000e+00   0.00000000e+00   0.00000000e+00   0.00000000e+00\n",
      "   0.00000000e+00   0.00000000e+00   5.75471878e+00  -1.00000000e+00\n",
      "   5.55726624e+00   0.00000000e+00   1.00000000e+00   0.00000000e+00\n",
      "  -1.68164849e-01]\n"
     ]
    }
   ],
   "source": [
    "# reset the environment\n",
    "env_info = env.reset(train_mode=True)[brain_name]\n",
    "\n",
    "# number of agents\n",
    "num_agents = len(env_info.agents)\n",
    "print('Number of agents:', num_agents)\n",
    "\n",
    "# size of each action\n",
    "action_size = brain.vector_action_space_size\n",
    "print('Size of each action:', action_size)\n",
    "\n",
    "# examine the state space \n",
    "states = env_info.vector_observations\n",
    "state_size = states.shape[1]\n",
    "print('There are {} agents. Each observes a state with length: {}'.format(states.shape[0], state_size))\n",
    "print('The state for the first agent looks like:', states[0])"
   ]
  },
  {
   "cell_type": "markdown",
   "metadata": {},
   "source": [
    "### 3. Take Random Actions in the Environment\n",
    "\n",
    "In the next code cell, you will learn how to use the Python API to control the agent and receive feedback from the environment.\n",
    "\n",
    "Note that **in this coding environment, you will not be able to watch the agents while they are training**, and you should set `train_mode=True` to restart the environment."
   ]
  },
  {
   "cell_type": "code",
   "execution_count": null,
   "metadata": {},
   "outputs": [],
   "source": [
    "env_info = env.reset(train_mode=False)[brain_name]      # reset the environment    \n",
    "states = env_info.vector_observations                  # get the current state (for each agent)\n",
    "scores = np.zeros(num_agents)                          # initialize the score (for each agent)\n",
    "while True:\n",
    "    actions = np.random.randn(num_agents, action_size) # select an action (for each agent)\n",
    "    actions = np.clip(actions, -1, 1)                  # all actions between -1 and 1\n",
    "    env_info = env.step(actions)[brain_name]           # send all actions to tne environment\n",
    "    next_states = env_info.vector_observations         # get next state (for each agent)\n",
    "    rewards = env_info.rewards                         # get reward (for each agent)\n",
    "    dones = env_info.local_done                        # see if episode finished\n",
    "    scores += env_info.rewards                         # update the score (for each agent)\n",
    "    states = next_states                               # roll over states to next time step\n",
    "    if np.any(dones):                                  # exit loop if episode finished\n",
    "        break\n",
    "print('Total score (averaged over agents) this episode: {}'.format(np.mean(scores)))"
   ]
  },
  {
   "cell_type": "code",
   "execution_count": null,
   "metadata": {},
   "outputs": [],
   "source": [
    "# DDPG function\n",
    "\n",
    "def ddpg(n_episodes=500, max_t=1000, solved_score=30.0, consec_episodes=100, print_every=1, train_mode=True,\n",
    "         actor_path='actor_ckpt.pth', critic_path='critic_ckpt.pth'):\n",
    "    \"\"\"Deep Deterministic Policy Gradient (DDPG)\n",
    "    \n",
    "    Params\n",
    "    ======\n",
    "        n_episodes (int)      : maximum number of training episodes\n",
    "        max_t (int)           : maximum number of timesteps per episode\n",
    "        train_mode (bool)     : if 'True' set environment to training mode\n",
    "        solved_score (float)  : min avg score over consecutive episodes\n",
    "        consec_episodes (int) : number of consecutive episodes used to calculate score\n",
    "        print_every (int)     : interval to display results\n",
    "        actor_path (str)      : directory to store actor network weights\n",
    "        critic_path (str)     : directory to store critic network weights\n",
    "\n",
    "    \"\"\"\n",
    "    mean_scores = []                               # list of mean scores from each episode\n",
    "    min_scores = []                                # list of lowest scores from each episode\n",
    "    max_scores = []                                # list of highest scores from each episode\n",
    "    best_score = -np.inf\n",
    "    scores_window = deque(maxlen=consec_episodes)  # mean scores from most recent episodes\n",
    "    moving_avgs = []                               # list of moving averages\n",
    "    \n",
    "    for i_episode in range(1, n_episodes+1):\n",
    "        env_info = env.reset(train_mode=train_mode)[brain_name] # reset environment\n",
    "        states = env_info.vector_observations                   # get current state for each agent      \n",
    "        scores = np.zeros(num_agents)                           # initialize score for each agent\n",
    "        agent.reset()\n",
    "        start_time = time.time()\n",
    "        for t in range(max_t):\n",
    "            actions = agent.act(states, add_noise=True)         # select an action\n",
    "            env_info = env.step(actions)[brain_name]            # send actions to environment\n",
    "            next_states = env_info.vector_observations          # get next state\n",
    "            rewards = env_info.rewards                          # get reward\n",
    "            dones = env_info.local_done                         # see if episode has finished\n",
    "            # save experience to replay buffer, perform learning step at defined interval\n",
    "            for state, action, reward, next_state, done in zip(states, actions, rewards, next_states, dones):\n",
    "                agent.step(state, action, reward, next_state, done, t)             \n",
    "            states = next_states\n",
    "            scores += rewards        \n",
    "            if np.any(dones):                                   # exit loop when episode ends\n",
    "                break\n",
    "\n",
    "        duration = time.time() - start_time\n",
    "        min_scores.append(np.min(scores))             # save lowest score for a single agent\n",
    "        max_scores.append(np.max(scores))             # save highest score for a single agent        \n",
    "        mean_scores.append(np.mean(scores))           # save mean score for the episode\n",
    "        scores_window.append(mean_scores[-1])         # save mean score to window\n",
    "        moving_avgs.append(np.mean(scores_window))    # save moving average\n",
    "                \n",
    "        if i_episode % print_every == 0:\n",
    "            print('\\rEpisode {} ({} sec)  -- \\tMin: {:.1f}\\tMax: {:.1f}\\tMean: {:.1f}\\tMov. Avg: {:.1f}'.format(\\\n",
    "                  i_episode, round(duration), min_scores[-1], max_scores[-1], mean_scores[-1], moving_avgs[-1]))\n",
    "        \n",
    "        if train_mode and mean_scores[-1] > best_score:\n",
    "            torch.save(agent.actor_local.state_dict(), actor_path)\n",
    "            torch.save(agent.critic_local.state_dict(), critic_path)\n",
    "                  \n",
    "        if moving_avgs[-1] >= solved_score and i_episode >= consec_episodes:\n",
    "            print('\\nEnvironment SOLVED in {} episodes!\\tMoving Average ={:.1f} over last {} episodes'.format(\\\n",
    "                                      i_episode-consec_episodes, moving_avgs[-1], consec_episodes))            \n",
    "            if train_mode:\n",
    "                torch.save(agent.actor_local.state_dict(), actor_path)\n",
    "                torch.save(agent.critic_local.state_dict(), critic_path)  \n",
    "            break\n",
    "            \n",
    "    return mean_scores, moving_avgs"
   ]
  },
  {
   "cell_type": "code",
   "execution_count": 7,
   "metadata": {},
   "outputs": [
    {
     "name": "stdout",
     "output_type": "stream",
     "text": [
      "Episode 1 (121 sec)  -- \tMin: 0.2\tMax: 2.6\tMean: 1.2\tMov. Avg: 1.2\n",
      "Episode 2 (124 sec)  -- \tMin: 0.5\tMax: 3.2\tMean: 1.8\tMov. Avg: 1.5\n",
      "Episode 3 (126 sec)  -- \tMin: 1.5\tMax: 4.9\tMean: 2.9\tMov. Avg: 2.0\n",
      "Episode 4 (126 sec)  -- \tMin: 1.6\tMax: 7.0\tMean: 3.5\tMov. Avg: 2.4\n",
      "Episode 5 (128 sec)  -- \tMin: 2.1\tMax: 6.0\tMean: 3.2\tMov. Avg: 2.5\n",
      "Episode 6 (129 sec)  -- \tMin: 1.3\tMax: 6.6\tMean: 3.1\tMov. Avg: 2.6\n",
      "Episode 7 (130 sec)  -- \tMin: 1.5\tMax: 6.2\tMean: 3.5\tMov. Avg: 2.8\n",
      "Episode 8 (130 sec)  -- \tMin: 4.1\tMax: 6.5\tMean: 5.0\tMov. Avg: 3.0\n",
      "Episode 9 (132 sec)  -- \tMin: 1.9\tMax: 8.0\tMean: 5.4\tMov. Avg: 3.3\n",
      "Episode 10 (133 sec)  -- \tMin: 4.0\tMax: 8.2\tMean: 5.8\tMov. Avg: 3.5\n",
      "Episode 11 (134 sec)  -- \tMin: 0.9\tMax: 11.5\tMean: 7.8\tMov. Avg: 3.9\n",
      "Episode 12 (137 sec)  -- \tMin: 4.9\tMax: 10.2\tMean: 7.5\tMov. Avg: 4.2\n",
      "Episode 13 (138 sec)  -- \tMin: 5.9\tMax: 14.1\tMean: 8.6\tMov. Avg: 4.6\n",
      "Episode 14 (139 sec)  -- \tMin: 6.2\tMax: 13.8\tMean: 9.7\tMov. Avg: 4.9\n",
      "Episode 15 (142 sec)  -- \tMin: 5.1\tMax: 13.1\tMean: 9.2\tMov. Avg: 5.2\n",
      "Episode 16 (144 sec)  -- \tMin: 6.6\tMax: 16.1\tMean: 11.2\tMov. Avg: 5.6\n",
      "Episode 17 (147 sec)  -- \tMin: 7.3\tMax: 17.0\tMean: 11.9\tMov. Avg: 6.0\n",
      "Episode 18 (149 sec)  -- \tMin: 7.7\tMax: 21.0\tMean: 12.5\tMov. Avg: 6.3\n",
      "Episode 19 (151 sec)  -- \tMin: 7.4\tMax: 16.8\tMean: 12.3\tMov. Avg: 6.6\n",
      "Episode 20 (154 sec)  -- \tMin: 7.6\tMax: 24.5\tMean: 15.5\tMov. Avg: 7.1\n",
      "Episode 21 (157 sec)  -- \tMin: 7.8\tMax: 18.7\tMean: 14.2\tMov. Avg: 7.4\n",
      "Episode 22 (158 sec)  -- \tMin: 11.5\tMax: 24.2\tMean: 16.2\tMov. Avg: 7.8\n",
      "Episode 23 (161 sec)  -- \tMin: 8.6\tMax: 20.7\tMean: 15.8\tMov. Avg: 8.2\n",
      "Episode 24 (162 sec)  -- \tMin: 9.8\tMax: 21.0\tMean: 15.5\tMov. Avg: 8.5\n",
      "Episode 25 (164 sec)  -- \tMin: 9.9\tMax: 24.6\tMean: 17.0\tMov. Avg: 8.8\n",
      "Episode 26 (167 sec)  -- \tMin: 12.9\tMax: 24.2\tMean: 19.3\tMov. Avg: 9.2\n",
      "Episode 27 (170 sec)  -- \tMin: 12.8\tMax: 27.2\tMean: 21.2\tMov. Avg: 9.7\n",
      "Episode 28 (173 sec)  -- \tMin: 13.1\tMax: 29.6\tMean: 20.6\tMov. Avg: 10.1\n",
      "Episode 29 (176 sec)  -- \tMin: 13.3\tMax: 28.8\tMean: 19.1\tMov. Avg: 10.4\n",
      "Episode 30 (179 sec)  -- \tMin: 15.2\tMax: 30.9\tMean: 22.8\tMov. Avg: 10.8\n",
      "Episode 31 (182 sec)  -- \tMin: 14.6\tMax: 33.1\tMean: 23.9\tMov. Avg: 11.2\n",
      "Episode 32 (186 sec)  -- \tMin: 19.1\tMax: 33.6\tMean: 27.1\tMov. Avg: 11.7\n",
      "Episode 33 (188 sec)  -- \tMin: 17.0\tMax: 32.3\tMean: 24.0\tMov. Avg: 12.1\n",
      "Episode 34 (191 sec)  -- \tMin: 18.2\tMax: 33.9\tMean: 25.7\tMov. Avg: 12.5\n",
      "Episode 35 (193 sec)  -- \tMin: 16.5\tMax: 31.9\tMean: 25.4\tMov. Avg: 12.8\n",
      "Episode 36 (196 sec)  -- \tMin: 17.7\tMax: 34.0\tMean: 26.3\tMov. Avg: 13.2\n",
      "Episode 37 (200 sec)  -- \tMin: 18.5\tMax: 34.1\tMean: 27.1\tMov. Avg: 13.6\n",
      "Episode 38 (203 sec)  -- \tMin: 19.6\tMax: 33.5\tMean: 27.4\tMov. Avg: 14.0\n",
      "Episode 39 (204 sec)  -- \tMin: 18.4\tMax: 37.2\tMean: 29.1\tMov. Avg: 14.3\n",
      "Episode 40 (207 sec)  -- \tMin: 20.3\tMax: 34.3\tMean: 29.6\tMov. Avg: 14.7\n",
      "Episode 41 (210 sec)  -- \tMin: 22.5\tMax: 38.6\tMean: 30.3\tMov. Avg: 15.1\n",
      "Episode 42 (213 sec)  -- \tMin: 26.0\tMax: 38.2\tMean: 31.7\tMov. Avg: 15.5\n",
      "Episode 43 (216 sec)  -- \tMin: 21.8\tMax: 36.3\tMean: 29.9\tMov. Avg: 15.8\n",
      "Episode 44 (219 sec)  -- \tMin: 25.8\tMax: 38.5\tMean: 31.0\tMov. Avg: 16.2\n",
      "Episode 45 (222 sec)  -- \tMin: 25.0\tMax: 36.9\tMean: 31.7\tMov. Avg: 16.5\n",
      "Episode 46 (224 sec)  -- \tMin: 24.4\tMax: 39.5\tMean: 33.8\tMov. Avg: 16.9\n",
      "Episode 47 (226 sec)  -- \tMin: 23.2\tMax: 39.3\tMean: 31.4\tMov. Avg: 17.2\n",
      "Episode 48 (229 sec)  -- \tMin: 24.8\tMax: 38.1\tMean: 33.3\tMov. Avg: 17.5\n",
      "Episode 49 (232 sec)  -- \tMin: 29.0\tMax: 36.6\tMean: 33.3\tMov. Avg: 17.9\n",
      "Episode 50 (235 sec)  -- \tMin: 28.8\tMax: 39.5\tMean: 34.3\tMov. Avg: 18.2\n",
      "Episode 51 (227 sec)  -- \tMin: 31.3\tMax: 37.9\tMean: 34.6\tMov. Avg: 18.5\n",
      "Episode 52 (238 sec)  -- \tMin: 30.4\tMax: 38.4\tMean: 35.0\tMov. Avg: 18.8\n",
      "Episode 53 (238 sec)  -- \tMin: 31.7\tMax: 39.5\tMean: 35.4\tMov. Avg: 19.1\n",
      "Episode 54 (239 sec)  -- \tMin: 29.6\tMax: 38.9\tMean: 35.6\tMov. Avg: 19.5\n",
      "Episode 55 (238 sec)  -- \tMin: 32.9\tMax: 39.4\tMean: 36.2\tMov. Avg: 19.8\n",
      "Episode 56 (238 sec)  -- \tMin: 33.8\tMax: 39.0\tMean: 37.0\tMov. Avg: 20.1\n",
      "Episode 57 (237 sec)  -- \tMin: 32.0\tMax: 39.4\tMean: 36.6\tMov. Avg: 20.4\n",
      "Episode 58 (237 sec)  -- \tMin: 33.4\tMax: 39.6\tMean: 37.5\tMov. Avg: 20.6\n",
      "Episode 59 (236 sec)  -- \tMin: 34.3\tMax: 39.3\tMean: 36.6\tMov. Avg: 20.9\n",
      "Episode 60 (237 sec)  -- \tMin: 34.7\tMax: 39.6\tMean: 37.9\tMov. Avg: 21.2\n",
      "Episode 61 (238 sec)  -- \tMin: 35.1\tMax: 39.5\tMean: 37.8\tMov. Avg: 21.5\n",
      "Episode 62 (237 sec)  -- \tMin: 34.6\tMax: 39.7\tMean: 37.8\tMov. Avg: 21.7\n",
      "Episode 63 (238 sec)  -- \tMin: 32.5\tMax: 39.6\tMean: 37.4\tMov. Avg: 22.0\n",
      "Episode 64 (238 sec)  -- \tMin: 33.4\tMax: 39.4\tMean: 37.3\tMov. Avg: 22.2\n",
      "Episode 65 (238 sec)  -- \tMin: 33.5\tMax: 39.3\tMean: 37.9\tMov. Avg: 22.5\n",
      "Episode 66 (237 sec)  -- \tMin: 35.1\tMax: 39.7\tMean: 38.4\tMov. Avg: 22.7\n",
      "Episode 67 (237 sec)  -- \tMin: 34.9\tMax: 39.4\tMean: 38.0\tMov. Avg: 22.9\n",
      "Episode 68 (238 sec)  -- \tMin: 33.7\tMax: 39.6\tMean: 37.9\tMov. Avg: 23.2\n",
      "Episode 69 (237 sec)  -- \tMin: 33.7\tMax: 39.7\tMean: 38.3\tMov. Avg: 23.4\n",
      "Episode 70 (238 sec)  -- \tMin: 35.5\tMax: 39.6\tMean: 38.1\tMov. Avg: 23.6\n",
      "Episode 71 (239 sec)  -- \tMin: 31.8\tMax: 39.6\tMean: 38.6\tMov. Avg: 23.8\n",
      "Episode 72 (238 sec)  -- \tMin: 34.7\tMax: 39.6\tMean: 38.6\tMov. Avg: 24.0\n",
      "Episode 73 (238 sec)  -- \tMin: 35.8\tMax: 39.5\tMean: 37.8\tMov. Avg: 24.2\n",
      "Episode 74 (238 sec)  -- \tMin: 36.8\tMax: 39.6\tMean: 38.2\tMov. Avg: 24.4\n",
      "Episode 75 (238 sec)  -- \tMin: 34.1\tMax: 39.5\tMean: 37.5\tMov. Avg: 24.6\n",
      "Episode 76 (239 sec)  -- \tMin: 35.3\tMax: 39.6\tMean: 38.4\tMov. Avg: 24.7\n",
      "Episode 77 (239 sec)  -- \tMin: 37.3\tMax: 39.6\tMean: 38.7\tMov. Avg: 24.9\n",
      "Episode 78 (238 sec)  -- \tMin: 35.0\tMax: 39.4\tMean: 37.7\tMov. Avg: 25.1\n",
      "Episode 79 (239 sec)  -- \tMin: 34.6\tMax: 39.4\tMean: 38.0\tMov. Avg: 25.3\n",
      "Episode 80 (238 sec)  -- \tMin: 35.1\tMax: 39.6\tMean: 38.4\tMov. Avg: 25.4\n",
      "Episode 81 (239 sec)  -- \tMin: 37.0\tMax: 39.7\tMean: 38.4\tMov. Avg: 25.6\n",
      "Episode 82 (239 sec)  -- \tMin: 35.2\tMax: 39.6\tMean: 38.4\tMov. Avg: 25.7\n",
      "Episode 83 (239 sec)  -- \tMin: 35.0\tMax: 39.6\tMean: 38.5\tMov. Avg: 25.9\n",
      "Episode 84 (238 sec)  -- \tMin: 35.8\tMax: 39.6\tMean: 38.8\tMov. Avg: 26.0\n",
      "Episode 85 (238 sec)  -- \tMin: 36.6\tMax: 39.6\tMean: 38.4\tMov. Avg: 26.2\n",
      "Episode 86 (238 sec)  -- \tMin: 37.2\tMax: 39.6\tMean: 38.6\tMov. Avg: 26.3\n",
      "Episode 87 (238 sec)  -- \tMin: 35.5\tMax: 39.4\tMean: 37.9\tMov. Avg: 26.5\n",
      "Episode 88 (238 sec)  -- \tMin: 36.2\tMax: 39.6\tMean: 38.2\tMov. Avg: 26.6\n",
      "Episode 89 (239 sec)  -- \tMin: 36.4\tMax: 39.5\tMean: 38.3\tMov. Avg: 26.7\n",
      "Episode 90 (240 sec)  -- \tMin: 36.0\tMax: 39.6\tMean: 38.6\tMov. Avg: 26.9\n",
      "Episode 91 (239 sec)  -- \tMin: 34.3\tMax: 39.3\tMean: 37.6\tMov. Avg: 27.0\n",
      "Episode 92 (239 sec)  -- \tMin: 34.7\tMax: 39.4\tMean: 38.0\tMov. Avg: 27.1\n",
      "Episode 93 (240 sec)  -- \tMin: 30.9\tMax: 38.6\tMean: 35.8\tMov. Avg: 27.2\n",
      "Episode 94 (239 sec)  -- \tMin: 35.4\tMax: 39.6\tMean: 38.7\tMov. Avg: 27.3\n",
      "Episode 95 (238 sec)  -- \tMin: 36.2\tMax: 39.5\tMean: 38.4\tMov. Avg: 27.4\n",
      "Episode 96 (238 sec)  -- \tMin: 32.5\tMax: 39.6\tMean: 37.3\tMov. Avg: 27.5\n",
      "Episode 97 (238 sec)  -- \tMin: 34.3\tMax: 39.5\tMean: 38.0\tMov. Avg: 27.6\n",
      "Episode 98 (239 sec)  -- \tMin: 36.3\tMax: 39.6\tMean: 38.5\tMov. Avg: 27.8\n",
      "Episode 99 (240 sec)  -- \tMin: 33.8\tMax: 39.6\tMean: 38.0\tMov. Avg: 27.9\n",
      "Episode 100 (239 sec)  -- \tMin: 36.0\tMax: 39.6\tMean: 38.4\tMov. Avg: 28.0\n",
      "Episode 101 (239 sec)  -- \tMin: 36.2\tMax: 39.6\tMean: 38.4\tMov. Avg: 28.3\n",
      "Episode 102 (240 sec)  -- \tMin: 34.3\tMax: 39.6\tMean: 37.9\tMov. Avg: 28.7\n",
      "Episode 103 (239 sec)  -- \tMin: 34.2\tMax: 39.4\tMean: 38.1\tMov. Avg: 29.0\n",
      "Episode 104 (239 sec)  -- \tMin: 33.9\tMax: 39.4\tMean: 37.7\tMov. Avg: 29.4\n",
      "Episode 105 (239 sec)  -- \tMin: 36.6\tMax: 39.6\tMean: 38.3\tMov. Avg: 29.7\n",
      "Episode 106 (239 sec)  -- \tMin: 35.4\tMax: 39.5\tMean: 38.2\tMov. Avg: 30.1\n",
      "\n",
      "Environment SOLVED in 6 episodes!\tMoving Average =30.1 over last 100 episodes\n"
     ]
    }
   ],
   "source": [
    "\n",
    "\n",
    "# run the training loop\n",
    "agent = Agent(state_size=state_size, action_size=action_size, random_seed=1)\n",
    "scores, avgs = ddpg()\n",
    "\n"
   ]
  },
  {
   "cell_type": "markdown",
   "metadata": {},
   "source": [
    "When finished, you can close the environment."
   ]
  },
  {
   "cell_type": "code",
   "execution_count": 8,
   "metadata": {},
   "outputs": [
    {
     "data": {
      "image/png": "[encoded data removed]",
      "text/plain": [
       "<matplotlib.figure.Figure at 0x7f39462323c8>"
      ]
     },
     "metadata": {
      "needs_background": "light"
     },
     "output_type": "display_data"
    }
   ],
   "source": [
    "# plot the scores\n",
    "fig = plt.figure()\n",
    "ax = fig.add_subplot(111)\n",
    "plt.plot(np.arange(len(scores)), scores, label='DDPG')\n",
    "plt.plot(np.arange(len(scores)), avgs, c='r', label='moving avg')\n",
    "plt.ylabel('Score')\n",
    "plt.xlabel('Episode #')\n",
    "plt.legend(loc='upper left');\n",
    "plt.show()\n"
   ]
  },
  {
   "cell_type": "code",
   "execution_count": 9,
   "metadata": {},
   "outputs": [],
   "source": [
    "env.close()"
   ]
  },
  {
   "cell_type": "markdown",
   "metadata": {},
   "source": [
    "### 4. It's Your Turn!\n",
    "\n",
    "Now it's your turn to train your own agent to solve the environment!  A few **important notes**:\n",
    "- When training the environment, set `train_mode=True`, so that the line for resetting the environment looks like the following:\n",
    "```python\n",
    "env_info = env.reset(train_mode=True)[brain_name]\n",
    "```\n",
    "- To structure your work, you're welcome to work directly in this Jupyter notebook, or you might like to start over with a new file!  You can see the list of files in the workspace by clicking on **_Jupyter_** in the top left corner of the notebook.\n",
    "- In this coding environment, you will not be able to watch the agents while they are training.  However, **_after training the agents_**, you can download the saved model weights to watch the agents on your own machine! "
   ]
  }
 ],
 "metadata": {
  "kernelspec": {
   "display_name": "Python 3",
   "language": "python",
   "name": "python3"
  },
  "language_info": {
   "codemirror_mode": {
    "name": "ipython",
    "version": 3
   },
   "file_extension": ".py",
   "mimetype": "text/x-python",
   "name": "python",
   "nbconvert_exporter": "python",
   "pygments_lexer": "ipython3",
   "version": "3.6.3"
  }
 },
 "nbformat": 4,
 "nbformat_minor": 2
}
